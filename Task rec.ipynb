{
 "cells": [
  {
   "cell_type": "code",
   "execution_count": 200,
   "metadata": {},
   "outputs": [],
   "source": [
    "import pandas as pd\n",
    "import numpy as np"
   ]
  },
  {
   "cell_type": "markdown",
   "metadata": {},
   "source": [
    "# Selecting series data"
   ]
  },
  {
   "cell_type": "code",
   "execution_count": 203,
   "metadata": {},
   "outputs": [],
   "source": [
    "a=np.arange(1,15,1)"
   ]
  },
  {
   "cell_type": "code",
   "execution_count": 204,
   "metadata": {},
   "outputs": [
    {
     "data": {
      "text/plain": [
       "array([ 1,  2,  3,  4,  5,  6,  7,  8,  9, 10, 11, 12, 13, 14])"
      ]
     },
     "execution_count": 204,
     "metadata": {},
     "output_type": "execute_result"
    }
   ],
   "source": [
    "a"
   ]
  },
  {
   "cell_type": "code",
   "execution_count": 205,
   "metadata": {},
   "outputs": [
    {
     "data": {
      "text/plain": [
       "array([ 7,  8,  9, 10, 11, 12, 13, 14])"
      ]
     },
     "execution_count": 205,
     "metadata": {},
     "output_type": "execute_result"
    }
   ],
   "source": [
    "a[6:14]"
   ]
  },
  {
   "cell_type": "code",
   "execution_count": 64,
   "metadata": {},
   "outputs": [
    {
     "data": {
      "text/plain": [
       "array([ 2,  4,  6,  8, 10, 12])"
      ]
     },
     "execution_count": 64,
     "metadata": {},
     "output_type": "execute_result"
    }
   ],
   "source": [
    "a[1:12:2]"
   ]
  },
  {
   "cell_type": "code",
   "execution_count": null,
   "metadata": {},
   "outputs": [],
   "source": []
  },
  {
   "cell_type": "code",
   "execution_count": 65,
   "metadata": {},
   "outputs": [
    {
     "data": {
      "text/plain": [
       "array([ 7, 11, 13])"
      ]
     },
     "execution_count": 65,
     "metadata": {},
     "output_type": "execute_result"
    }
   ],
   "source": [
    "a[[6,10,12]]"
   ]
  },
  {
   "cell_type": "code",
   "execution_count": 66,
   "metadata": {},
   "outputs": [],
   "source": [
    "b=np.array(np.matrix('1,2,3,4;5,6,7,8'))"
   ]
  },
  {
   "cell_type": "code",
   "execution_count": 67,
   "metadata": {},
   "outputs": [
    {
     "data": {
      "text/plain": [
       "array([[1, 2, 3, 4],\n",
       "       [5, 6, 7, 8]])"
      ]
     },
     "execution_count": 67,
     "metadata": {},
     "output_type": "execute_result"
    }
   ],
   "source": [
    "b"
   ]
  },
  {
   "cell_type": "code",
   "execution_count": 206,
   "metadata": {},
   "outputs": [
    {
     "data": {
      "text/plain": [
       "7"
      ]
     },
     "execution_count": 206,
     "metadata": {},
     "output_type": "execute_result"
    }
   ],
   "source": [
    "b[1][2]"
   ]
  },
  {
   "cell_type": "code",
   "execution_count": 68,
   "metadata": {},
   "outputs": [
    {
     "data": {
      "text/plain": [
       "2"
      ]
     },
     "execution_count": 68,
     "metadata": {},
     "output_type": "execute_result"
    }
   ],
   "source": [
    "b[0][1]"
   ]
  },
  {
   "cell_type": "code",
   "execution_count": 208,
   "metadata": {},
   "outputs": [
    {
     "data": {
      "text/plain": [
       "INSTNM\n",
       "University of Oxford                England\n",
       "University of Cambridge             England\n",
       "Stanford University              California\n",
       "                                  ...      \n",
       "University College London    United Kingdom\n",
       "The University of Chicago     United States\n",
       "Princeton University          United States\n",
       "Name: country, Length: 10, dtype: object"
      ]
     },
     "execution_count": 208,
     "metadata": {},
     "output_type": "execute_result"
    }
   ],
   "source": [
    "    University = pd.read_csv('data1/University.csv', index_col='INSTNM')\n",
    "country = University['country']\n",
    "country"
   ]
  },
  {
   "cell_type": "code",
   "execution_count": 209,
   "metadata": {},
   "outputs": [
    {
     "data": {
      "text/plain": [
       "'California'"
      ]
     },
     "execution_count": 209,
     "metadata": {},
     "output_type": "execute_result"
    }
   ],
   "source": [
    "country.iloc[2]"
   ]
  },
  {
   "cell_type": "code",
   "execution_count": 210,
   "metadata": {},
   "outputs": [
    {
     "data": {
      "text/plain": [
       "INSTNM\n",
       "University of Cambridge             England\n",
       "Imperial College London             England\n",
       "University College London    United Kingdom\n",
       "Name: country, dtype: object"
      ]
     },
     "execution_count": 210,
     "metadata": {},
     "output_type": "execute_result"
    }
   ],
   "source": [
    "country.iloc[[1,5,7]]\n"
   ]
  },
  {
   "cell_type": "code",
   "execution_count": 212,
   "metadata": {},
   "outputs": [
    {
     "data": {
      "text/plain": [
       "INSTNM\n",
       "University of Cambridge             England\n",
       "Harvard University            United States\n",
       "University College London    United Kingdom\n",
       "Name: country, dtype: object"
      ]
     },
     "execution_count": 212,
     "metadata": {},
     "output_type": "execute_result"
    }
   ],
   "source": [
    "country.iloc[1:10:3]"
   ]
  },
  {
   "cell_type": "code",
   "execution_count": 95,
   "metadata": {},
   "outputs": [
    {
     "data": {
      "text/plain": [
       "'United States'"
      ]
     },
     "execution_count": 95,
     "metadata": {},
     "output_type": "execute_result"
    }
   ],
   "source": [
    "country.loc['Massachusetts Institute of Technology']"
   ]
  },
  {
   "cell_type": "code",
   "execution_count": 213,
   "metadata": {},
   "outputs": [
    {
     "data": {
      "text/plain": [
       "INSTNM\n",
       "University of Oxford                        England\n",
       "Stanford University                      California\n",
       "Harvard University                    United States\n",
       "California Institute of Technology       California\n",
       "The University of Chicago             United States\n",
       "Name: country, dtype: object"
      ]
     },
     "execution_count": 213,
     "metadata": {},
     "output_type": "execute_result"
    }
   ],
   "source": [
    "country.loc['University of Oxford':'Princeton University':2]"
   ]
  },
  {
   "cell_type": "code",
   "execution_count": 214,
   "metadata": {},
   "outputs": [
    {
     "data": {
      "text/plain": [
       "INSTNM\n",
       "Princeton University       United States\n",
       "Imperial College London          England\n",
       "University of Cambridge          England\n",
       "Name: country, dtype: object"
      ]
     },
     "execution_count": 214,
     "metadata": {},
     "output_type": "execute_result"
    }
   ],
   "source": [
    "country.loc['Princeton University':'University of Oxford':-4]"
   ]
  },
  {
   "cell_type": "code",
   "execution_count": 215,
   "metadata": {},
   "outputs": [],
   "source": [
    "pd.options.display.max_rows = 6\n"
   ]
  },
  {
   "cell_type": "code",
   "execution_count": 216,
   "metadata": {},
   "outputs": [
    {
     "data": {
      "text/html": [
       "<div>\n",
       "<style scoped>\n",
       "    .dataframe tbody tr th:only-of-type {\n",
       "        vertical-align: middle;\n",
       "    }\n",
       "\n",
       "    .dataframe tbody tr th {\n",
       "        vertical-align: top;\n",
       "    }\n",
       "\n",
       "    .dataframe thead th {\n",
       "        text-align: right;\n",
       "    }\n",
       "</style>\n",
       "<table border=\"1\" class=\"dataframe\">\n",
       "  <thead>\n",
       "    <tr style=\"text-align: right;\">\n",
       "      <th></th>\n",
       "      <th>country</th>\n",
       "      <th>UGDS</th>\n",
       "      <th>UGDS_WHITE</th>\n",
       "      <th>UGDS_BLACK</th>\n",
       "      <th>UGDS_HISP</th>\n",
       "      <th>UGDS_ASIAN</th>\n",
       "      <th>UGDS_AIAN</th>\n",
       "      <th>UGDS_NHPI</th>\n",
       "      <th>UGDS_2MOR</th>\n",
       "      <th>UGDS_NRA</th>\n",
       "      <th>UGDS_UNKN</th>\n",
       "    </tr>\n",
       "    <tr>\n",
       "      <th>INSTNM</th>\n",
       "      <th></th>\n",
       "      <th></th>\n",
       "      <th></th>\n",
       "      <th></th>\n",
       "      <th></th>\n",
       "      <th></th>\n",
       "      <th></th>\n",
       "      <th></th>\n",
       "      <th></th>\n",
       "      <th></th>\n",
       "      <th></th>\n",
       "    </tr>\n",
       "  </thead>\n",
       "  <tbody>\n",
       "    <tr>\n",
       "      <td>University of Oxford</td>\n",
       "      <td>England</td>\n",
       "      <td>4206</td>\n",
       "      <td>0.0333</td>\n",
       "      <td>0.9353</td>\n",
       "      <td>0.0055</td>\n",
       "      <td>0.0019</td>\n",
       "      <td>0.0024</td>\n",
       "      <td>0.0019</td>\n",
       "      <td>0.0000</td>\n",
       "      <td>0.0059</td>\n",
       "      <td>0.0138</td>\n",
       "    </tr>\n",
       "    <tr>\n",
       "      <td>University of Cambridge</td>\n",
       "      <td>England</td>\n",
       "      <td>11383</td>\n",
       "      <td>0.5922</td>\n",
       "      <td>0.2600</td>\n",
       "      <td>0.0283</td>\n",
       "      <td>0.0518</td>\n",
       "      <td>0.0022</td>\n",
       "      <td>0.0007</td>\n",
       "      <td>0.0368</td>\n",
       "      <td>0.0179</td>\n",
       "      <td>0.0100</td>\n",
       "    </tr>\n",
       "    <tr>\n",
       "      <td>Stanford University</td>\n",
       "      <td>California</td>\n",
       "      <td>291</td>\n",
       "      <td>0.2990</td>\n",
       "      <td>0.4192</td>\n",
       "      <td>0.0069</td>\n",
       "      <td>0.0034</td>\n",
       "      <td>0.0000</td>\n",
       "      <td>0.0000</td>\n",
       "      <td>0.0000</td>\n",
       "      <td>0.0000</td>\n",
       "      <td>0.2715</td>\n",
       "    </tr>\n",
       "    <tr>\n",
       "      <td>...</td>\n",
       "      <td>...</td>\n",
       "      <td>...</td>\n",
       "      <td>...</td>\n",
       "      <td>...</td>\n",
       "      <td>...</td>\n",
       "      <td>...</td>\n",
       "      <td>...</td>\n",
       "      <td>...</td>\n",
       "      <td>...</td>\n",
       "      <td>...</td>\n",
       "      <td>...</td>\n",
       "    </tr>\n",
       "    <tr>\n",
       "      <td>University College London</td>\n",
       "      <td>United Kingdom</td>\n",
       "      <td>2991</td>\n",
       "      <td>0.7823</td>\n",
       "      <td>0.1200</td>\n",
       "      <td>0.0191</td>\n",
       "      <td>0.0053</td>\n",
       "      <td>0.0157</td>\n",
       "      <td>0.0010</td>\n",
       "      <td>0.0174</td>\n",
       "      <td>0.0057</td>\n",
       "      <td>0.0334</td>\n",
       "    </tr>\n",
       "    <tr>\n",
       "      <td>The University of Chicago</td>\n",
       "      <td>United States</td>\n",
       "      <td>4304</td>\n",
       "      <td>0.5328</td>\n",
       "      <td>0.3376</td>\n",
       "      <td>0.0074</td>\n",
       "      <td>0.0221</td>\n",
       "      <td>0.0044</td>\n",
       "      <td>0.0016</td>\n",
       "      <td>0.0297</td>\n",
       "      <td>0.0397</td>\n",
       "      <td>0.0246</td>\n",
       "    </tr>\n",
       "    <tr>\n",
       "      <td>Princeton University</td>\n",
       "      <td>United States</td>\n",
       "      <td>20514</td>\n",
       "      <td>0.8507</td>\n",
       "      <td>0.0704</td>\n",
       "      <td>0.0248</td>\n",
       "      <td>0.0227</td>\n",
       "      <td>0.0074</td>\n",
       "      <td>0.0000</td>\n",
       "      <td>0.0000</td>\n",
       "      <td>0.0100</td>\n",
       "      <td>0.0140</td>\n",
       "    </tr>\n",
       "  </tbody>\n",
       "</table>\n",
       "<p>10 rows × 11 columns</p>\n",
       "</div>"
      ],
      "text/plain": [
       "                                  country   UGDS  UGDS_WHITE  UGDS_BLACK  \\\n",
       "INSTNM                                                                     \n",
       "University of Oxford              England   4206      0.0333      0.9353   \n",
       "University of Cambridge           England  11383      0.5922      0.2600   \n",
       "Stanford University            California    291      0.2990      0.4192   \n",
       "...                                   ...    ...         ...         ...   \n",
       "University College London  United Kingdom   2991      0.7823      0.1200   \n",
       "The University of Chicago   United States   4304      0.5328      0.3376   \n",
       "Princeton University        United States  20514      0.8507      0.0704   \n",
       "\n",
       "                           UGDS_HISP  UGDS_ASIAN  UGDS_AIAN  UGDS_NHPI  \\\n",
       "INSTNM                                                                   \n",
       "University of Oxford          0.0055      0.0019     0.0024     0.0019   \n",
       "University of Cambridge       0.0283      0.0518     0.0022     0.0007   \n",
       "Stanford University           0.0069      0.0034     0.0000     0.0000   \n",
       "...                              ...         ...        ...        ...   \n",
       "University College London     0.0191      0.0053     0.0157     0.0010   \n",
       "The University of Chicago     0.0074      0.0221     0.0044     0.0016   \n",
       "Princeton University          0.0248      0.0227     0.0074     0.0000   \n",
       "\n",
       "                           UGDS_2MOR  UGDS_NRA  UGDS_UNKN  \n",
       "INSTNM                                                     \n",
       "University of Oxford          0.0000    0.0059     0.0138  \n",
       "University of Cambridge       0.0368    0.0179     0.0100  \n",
       "Stanford University           0.0000    0.0000     0.2715  \n",
       "...                              ...       ...        ...  \n",
       "University College London     0.0174    0.0057     0.0334  \n",
       "The University of Chicago     0.0297    0.0397     0.0246  \n",
       "Princeton University          0.0000    0.0100     0.0140  \n",
       "\n",
       "[10 rows x 11 columns]"
      ]
     },
     "execution_count": 216,
     "metadata": {},
     "output_type": "execute_result"
    }
   ],
   "source": [
    "University\n"
   ]
  },
  {
   "cell_type": "code",
   "execution_count": 141,
   "metadata": {},
   "outputs": [
    {
     "data": {
      "text/plain": [
       "country       California\n",
       "UGDS                1592\n",
       "UGDS_WHITE        0.7255\n",
       "UGDS_BLACK        0.2613\n",
       "                 ...    \n",
       "UGDS_NHPI              0\n",
       "UGDS_2MOR              0\n",
       "UGDS_NRA               0\n",
       "UGDS_UNKN         0.0019\n",
       "Name: California Institute of Technology, Length: 11, dtype: object"
      ]
     },
     "execution_count": 141,
     "metadata": {},
     "output_type": "execute_result"
    }
   ],
   "source": [
    "University.iloc[6]"
   ]
  },
  {
   "cell_type": "code",
   "execution_count": 217,
   "metadata": {},
   "outputs": [
    {
     "data": {
      "text/plain": [
       "country       United Kingdom\n",
       "UGDS                    2991\n",
       "UGDS_WHITE            0.7823\n",
       "                   ...      \n",
       "UGDS_2MOR             0.0174\n",
       "UGDS_NRA              0.0057\n",
       "UGDS_UNKN             0.0334\n",
       "Name: University College London, Length: 11, dtype: object"
      ]
     },
     "execution_count": 217,
     "metadata": {},
     "output_type": "execute_result"
    }
   ],
   "source": [
    "University.loc['University College London']"
   ]
  },
  {
   "cell_type": "code",
   "execution_count": 218,
   "metadata": {},
   "outputs": [
    {
     "data": {
      "text/html": [
       "<div>\n",
       "<style scoped>\n",
       "    .dataframe tbody tr th:only-of-type {\n",
       "        vertical-align: middle;\n",
       "    }\n",
       "\n",
       "    .dataframe tbody tr th {\n",
       "        vertical-align: top;\n",
       "    }\n",
       "\n",
       "    .dataframe thead th {\n",
       "        text-align: right;\n",
       "    }\n",
       "</style>\n",
       "<table border=\"1\" class=\"dataframe\">\n",
       "  <thead>\n",
       "    <tr style=\"text-align: right;\">\n",
       "      <th></th>\n",
       "      <th>country</th>\n",
       "      <th>UGDS</th>\n",
       "      <th>UGDS_WHITE</th>\n",
       "      <th>UGDS_BLACK</th>\n",
       "      <th>UGDS_HISP</th>\n",
       "      <th>UGDS_ASIAN</th>\n",
       "      <th>UGDS_AIAN</th>\n",
       "      <th>UGDS_NHPI</th>\n",
       "      <th>UGDS_2MOR</th>\n",
       "      <th>UGDS_NRA</th>\n",
       "      <th>UGDS_UNKN</th>\n",
       "    </tr>\n",
       "    <tr>\n",
       "      <th>INSTNM</th>\n",
       "      <th></th>\n",
       "      <th></th>\n",
       "      <th></th>\n",
       "      <th></th>\n",
       "      <th></th>\n",
       "      <th></th>\n",
       "      <th></th>\n",
       "      <th></th>\n",
       "      <th></th>\n",
       "      <th></th>\n",
       "      <th></th>\n",
       "    </tr>\n",
       "  </thead>\n",
       "  <tbody>\n",
       "    <tr>\n",
       "      <td>Massachusetts Institute of Technology</td>\n",
       "      <td>United States</td>\n",
       "      <td>5451</td>\n",
       "      <td>0.6988</td>\n",
       "      <td>0.1255</td>\n",
       "      <td>0.0382</td>\n",
       "      <td>0.0376</td>\n",
       "      <td>0.0143</td>\n",
       "      <td>0.0002</td>\n",
       "      <td>0.0172</td>\n",
       "      <td>0.0332</td>\n",
       "      <td>0.0350</td>\n",
       "    </tr>\n",
       "    <tr>\n",
       "      <td>Imperial College London</td>\n",
       "      <td>England</td>\n",
       "      <td>29851</td>\n",
       "      <td>0.7825</td>\n",
       "      <td>0.1119</td>\n",
       "      <td>0.0348</td>\n",
       "      <td>0.0106</td>\n",
       "      <td>0.0038</td>\n",
       "      <td>0.0009</td>\n",
       "      <td>0.0261</td>\n",
       "      <td>0.0268</td>\n",
       "      <td>0.0026</td>\n",
       "    </tr>\n",
       "    <tr>\n",
       "      <td>Princeton University</td>\n",
       "      <td>United States</td>\n",
       "      <td>20514</td>\n",
       "      <td>0.8507</td>\n",
       "      <td>0.0704</td>\n",
       "      <td>0.0248</td>\n",
       "      <td>0.0227</td>\n",
       "      <td>0.0074</td>\n",
       "      <td>0.0000</td>\n",
       "      <td>0.0000</td>\n",
       "      <td>0.0100</td>\n",
       "      <td>0.0140</td>\n",
       "    </tr>\n",
       "  </tbody>\n",
       "</table>\n",
       "</div>"
      ],
      "text/plain": [
       "                                             country   UGDS  UGDS_WHITE  \\\n",
       "INSTNM                                                                    \n",
       "Massachusetts Institute of Technology  United States   5451      0.6988   \n",
       "Imperial College London                      England  29851      0.7825   \n",
       "Princeton University                   United States  20514      0.8507   \n",
       "\n",
       "                                       UGDS_BLACK  UGDS_HISP  UGDS_ASIAN  \\\n",
       "INSTNM                                                                     \n",
       "Massachusetts Institute of Technology      0.1255     0.0382      0.0376   \n",
       "Imperial College London                    0.1119     0.0348      0.0106   \n",
       "Princeton University                       0.0704     0.0248      0.0227   \n",
       "\n",
       "                                       UGDS_AIAN  UGDS_NHPI  UGDS_2MOR  \\\n",
       "INSTNM                                                                   \n",
       "Massachusetts Institute of Technology     0.0143     0.0002     0.0172   \n",
       "Imperial College London                   0.0038     0.0009     0.0261   \n",
       "Princeton University                      0.0074     0.0000     0.0000   \n",
       "\n",
       "                                       UGDS_NRA  UGDS_UNKN  \n",
       "INSTNM                                                      \n",
       "Massachusetts Institute of Technology    0.0332     0.0350  \n",
       "Imperial College London                  0.0268     0.0026  \n",
       "Princeton University                     0.0100     0.0140  "
      ]
     },
     "execution_count": 218,
     "metadata": {},
     "output_type": "execute_result"
    }
   ],
   "source": [
    "University.iloc[[3,5,9]]"
   ]
  },
  {
   "cell_type": "code",
   "execution_count": 219,
   "metadata": {},
   "outputs": [
    {
     "data": {
      "text/html": [
       "<div>\n",
       "<style scoped>\n",
       "    .dataframe tbody tr th:only-of-type {\n",
       "        vertical-align: middle;\n",
       "    }\n",
       "\n",
       "    .dataframe tbody tr th {\n",
       "        vertical-align: top;\n",
       "    }\n",
       "\n",
       "    .dataframe thead th {\n",
       "        text-align: right;\n",
       "    }\n",
       "</style>\n",
       "<table border=\"1\" class=\"dataframe\">\n",
       "  <thead>\n",
       "    <tr style=\"text-align: right;\">\n",
       "      <th></th>\n",
       "      <th>country</th>\n",
       "      <th>UGDS</th>\n",
       "      <th>UGDS_WHITE</th>\n",
       "      <th>UGDS_BLACK</th>\n",
       "      <th>UGDS_HISP</th>\n",
       "      <th>UGDS_ASIAN</th>\n",
       "      <th>UGDS_AIAN</th>\n",
       "      <th>UGDS_NHPI</th>\n",
       "      <th>UGDS_2MOR</th>\n",
       "      <th>UGDS_NRA</th>\n",
       "      <th>UGDS_UNKN</th>\n",
       "    </tr>\n",
       "    <tr>\n",
       "      <th>INSTNM</th>\n",
       "      <th></th>\n",
       "      <th></th>\n",
       "      <th></th>\n",
       "      <th></th>\n",
       "      <th></th>\n",
       "      <th></th>\n",
       "      <th></th>\n",
       "      <th></th>\n",
       "      <th></th>\n",
       "      <th></th>\n",
       "      <th></th>\n",
       "    </tr>\n",
       "  </thead>\n",
       "  <tbody>\n",
       "    <tr>\n",
       "      <td>Massachusetts Institute of Technology</td>\n",
       "      <td>United States</td>\n",
       "      <td>5451</td>\n",
       "      <td>0.6988</td>\n",
       "      <td>0.1255</td>\n",
       "      <td>0.0382</td>\n",
       "      <td>0.0376</td>\n",
       "      <td>0.0143</td>\n",
       "      <td>0.0002</td>\n",
       "      <td>0.0172</td>\n",
       "      <td>0.0332</td>\n",
       "      <td>0.0350</td>\n",
       "    </tr>\n",
       "    <tr>\n",
       "      <td>Imperial College London</td>\n",
       "      <td>England</td>\n",
       "      <td>29851</td>\n",
       "      <td>0.7825</td>\n",
       "      <td>0.1119</td>\n",
       "      <td>0.0348</td>\n",
       "      <td>0.0106</td>\n",
       "      <td>0.0038</td>\n",
       "      <td>0.0009</td>\n",
       "      <td>0.0261</td>\n",
       "      <td>0.0268</td>\n",
       "      <td>0.0026</td>\n",
       "    </tr>\n",
       "    <tr>\n",
       "      <td>Princeton University</td>\n",
       "      <td>United States</td>\n",
       "      <td>20514</td>\n",
       "      <td>0.8507</td>\n",
       "      <td>0.0704</td>\n",
       "      <td>0.0248</td>\n",
       "      <td>0.0227</td>\n",
       "      <td>0.0074</td>\n",
       "      <td>0.0000</td>\n",
       "      <td>0.0000</td>\n",
       "      <td>0.0100</td>\n",
       "      <td>0.0140</td>\n",
       "    </tr>\n",
       "  </tbody>\n",
       "</table>\n",
       "</div>"
      ],
      "text/plain": [
       "                                             country   UGDS  UGDS_WHITE  \\\n",
       "INSTNM                                                                    \n",
       "Massachusetts Institute of Technology  United States   5451      0.6988   \n",
       "Imperial College London                      England  29851      0.7825   \n",
       "Princeton University                   United States  20514      0.8507   \n",
       "\n",
       "                                       UGDS_BLACK  UGDS_HISP  UGDS_ASIAN  \\\n",
       "INSTNM                                                                     \n",
       "Massachusetts Institute of Technology      0.1255     0.0382      0.0376   \n",
       "Imperial College London                    0.1119     0.0348      0.0106   \n",
       "Princeton University                       0.0704     0.0248      0.0227   \n",
       "\n",
       "                                       UGDS_AIAN  UGDS_NHPI  UGDS_2MOR  \\\n",
       "INSTNM                                                                   \n",
       "Massachusetts Institute of Technology     0.0143     0.0002     0.0172   \n",
       "Imperial College London                   0.0038     0.0009     0.0261   \n",
       "Princeton University                      0.0074     0.0000     0.0000   \n",
       "\n",
       "                                       UGDS_NRA  UGDS_UNKN  \n",
       "INSTNM                                                      \n",
       "Massachusetts Institute of Technology    0.0332     0.0350  \n",
       "Imperial College London                  0.0268     0.0026  \n",
       "Princeton University                     0.0100     0.0140  "
      ]
     },
     "execution_count": 219,
     "metadata": {},
     "output_type": "execute_result"
    }
   ],
   "source": [
    "labels = ['Massachusetts Institute of Technology',\n",
    "          'Imperial College London',\n",
    "          'Princeton University']\n",
    "University.loc[labels]"
   ]
  },
  {
   "cell_type": "code",
   "execution_count": 221,
   "metadata": {},
   "outputs": [
    {
     "data": {
      "text/html": [
       "<div>\n",
       "<style scoped>\n",
       "    .dataframe tbody tr th:only-of-type {\n",
       "        vertical-align: middle;\n",
       "    }\n",
       "\n",
       "    .dataframe tbody tr th {\n",
       "        vertical-align: top;\n",
       "    }\n",
       "\n",
       "    .dataframe thead th {\n",
       "        text-align: right;\n",
       "    }\n",
       "</style>\n",
       "<table border=\"1\" class=\"dataframe\">\n",
       "  <thead>\n",
       "    <tr style=\"text-align: right;\">\n",
       "      <th></th>\n",
       "      <th>country</th>\n",
       "      <th>UGDS</th>\n",
       "      <th>UGDS_WHITE</th>\n",
       "      <th>UGDS_BLACK</th>\n",
       "      <th>UGDS_HISP</th>\n",
       "      <th>UGDS_ASIAN</th>\n",
       "      <th>UGDS_AIAN</th>\n",
       "      <th>UGDS_NHPI</th>\n",
       "      <th>UGDS_2MOR</th>\n",
       "      <th>UGDS_NRA</th>\n",
       "      <th>UGDS_UNKN</th>\n",
       "    </tr>\n",
       "    <tr>\n",
       "      <th>INSTNM</th>\n",
       "      <th></th>\n",
       "      <th></th>\n",
       "      <th></th>\n",
       "      <th></th>\n",
       "      <th></th>\n",
       "      <th></th>\n",
       "      <th></th>\n",
       "      <th></th>\n",
       "      <th></th>\n",
       "      <th></th>\n",
       "      <th></th>\n",
       "    </tr>\n",
       "  </thead>\n",
       "  <tbody>\n",
       "    <tr>\n",
       "      <td>University of Cambridge</td>\n",
       "      <td>England</td>\n",
       "      <td>11383</td>\n",
       "      <td>0.5922</td>\n",
       "      <td>0.2600</td>\n",
       "      <td>0.0283</td>\n",
       "      <td>0.0518</td>\n",
       "      <td>0.0022</td>\n",
       "      <td>0.0007</td>\n",
       "      <td>0.0368</td>\n",
       "      <td>0.0179</td>\n",
       "      <td>0.0100</td>\n",
       "    </tr>\n",
       "    <tr>\n",
       "      <td>Stanford University</td>\n",
       "      <td>California</td>\n",
       "      <td>291</td>\n",
       "      <td>0.2990</td>\n",
       "      <td>0.4192</td>\n",
       "      <td>0.0069</td>\n",
       "      <td>0.0034</td>\n",
       "      <td>0.0000</td>\n",
       "      <td>0.0000</td>\n",
       "      <td>0.0000</td>\n",
       "      <td>0.0000</td>\n",
       "      <td>0.2715</td>\n",
       "    </tr>\n",
       "    <tr>\n",
       "      <td>Massachusetts Institute of Technology</td>\n",
       "      <td>United States</td>\n",
       "      <td>5451</td>\n",
       "      <td>0.6988</td>\n",
       "      <td>0.1255</td>\n",
       "      <td>0.0382</td>\n",
       "      <td>0.0376</td>\n",
       "      <td>0.0143</td>\n",
       "      <td>0.0002</td>\n",
       "      <td>0.0172</td>\n",
       "      <td>0.0332</td>\n",
       "      <td>0.0350</td>\n",
       "    </tr>\n",
       "    <tr>\n",
       "      <td>Harvard University</td>\n",
       "      <td>United States</td>\n",
       "      <td>4811</td>\n",
       "      <td>0.0158</td>\n",
       "      <td>0.9208</td>\n",
       "      <td>0.0121</td>\n",
       "      <td>0.0019</td>\n",
       "      <td>0.0010</td>\n",
       "      <td>0.0006</td>\n",
       "      <td>0.0098</td>\n",
       "      <td>0.0243</td>\n",
       "      <td>0.0137</td>\n",
       "    </tr>\n",
       "    <tr>\n",
       "      <td>Imperial College London</td>\n",
       "      <td>England</td>\n",
       "      <td>29851</td>\n",
       "      <td>0.7825</td>\n",
       "      <td>0.1119</td>\n",
       "      <td>0.0348</td>\n",
       "      <td>0.0106</td>\n",
       "      <td>0.0038</td>\n",
       "      <td>0.0009</td>\n",
       "      <td>0.0261</td>\n",
       "      <td>0.0268</td>\n",
       "      <td>0.0026</td>\n",
       "    </tr>\n",
       "  </tbody>\n",
       "</table>\n",
       "</div>"
      ],
      "text/plain": [
       "                                             country   UGDS  UGDS_WHITE  \\\n",
       "INSTNM                                                                    \n",
       "University of Cambridge                      England  11383      0.5922   \n",
       "Stanford University                       California    291      0.2990   \n",
       "Massachusetts Institute of Technology  United States   5451      0.6988   \n",
       "Harvard University                     United States   4811      0.0158   \n",
       "Imperial College London                      England  29851      0.7825   \n",
       "\n",
       "                                       UGDS_BLACK  UGDS_HISP  UGDS_ASIAN  \\\n",
       "INSTNM                                                                     \n",
       "University of Cambridge                    0.2600     0.0283      0.0518   \n",
       "Stanford University                        0.4192     0.0069      0.0034   \n",
       "Massachusetts Institute of Technology      0.1255     0.0382      0.0376   \n",
       "Harvard University                         0.9208     0.0121      0.0019   \n",
       "Imperial College London                    0.1119     0.0348      0.0106   \n",
       "\n",
       "                                       UGDS_AIAN  UGDS_NHPI  UGDS_2MOR  \\\n",
       "INSTNM                                                                   \n",
       "University of Cambridge                   0.0022     0.0007     0.0368   \n",
       "Stanford University                       0.0000     0.0000     0.0000   \n",
       "Massachusetts Institute of Technology     0.0143     0.0002     0.0172   \n",
       "Harvard University                        0.0010     0.0006     0.0098   \n",
       "Imperial College London                   0.0038     0.0009     0.0261   \n",
       "\n",
       "                                       UGDS_NRA  UGDS_UNKN  \n",
       "INSTNM                                                      \n",
       "University of Cambridge                  0.0179     0.0100  \n",
       "Stanford University                      0.0000     0.2715  \n",
       "Massachusetts Institute of Technology    0.0332     0.0350  \n",
       "Harvard University                       0.0243     0.0137  \n",
       "Imperial College London                  0.0268     0.0026  "
      ]
     },
     "execution_count": 221,
     "metadata": {},
     "output_type": "execute_result"
    }
   ],
   "source": [
    "University.iloc[1:6]"
   ]
  },
  {
   "cell_type": "code",
   "execution_count": null,
   "metadata": {},
   "outputs": [],
   "source": []
  },
  {
   "cell_type": "code",
   "execution_count": 150,
   "metadata": {},
   "outputs": [
    {
     "data": {
      "text/html": [
       "<div>\n",
       "<style scoped>\n",
       "    .dataframe tbody tr th:only-of-type {\n",
       "        vertical-align: middle;\n",
       "    }\n",
       "\n",
       "    .dataframe tbody tr th {\n",
       "        vertical-align: top;\n",
       "    }\n",
       "\n",
       "    .dataframe thead th {\n",
       "        text-align: right;\n",
       "    }\n",
       "</style>\n",
       "<table border=\"1\" class=\"dataframe\">\n",
       "  <thead>\n",
       "    <tr style=\"text-align: right;\">\n",
       "      <th></th>\n",
       "      <th>country</th>\n",
       "      <th>UGDS</th>\n",
       "      <th>UGDS_WHITE</th>\n",
       "      <th>UGDS_BLACK</th>\n",
       "      <th>UGDS_HISP</th>\n",
       "      <th>UGDS_ASIAN</th>\n",
       "      <th>UGDS_AIAN</th>\n",
       "      <th>UGDS_NHPI</th>\n",
       "      <th>UGDS_2MOR</th>\n",
       "      <th>UGDS_NRA</th>\n",
       "      <th>UGDS_UNKN</th>\n",
       "    </tr>\n",
       "    <tr>\n",
       "      <th>INSTNM</th>\n",
       "      <th></th>\n",
       "      <th></th>\n",
       "      <th></th>\n",
       "      <th></th>\n",
       "      <th></th>\n",
       "      <th></th>\n",
       "      <th></th>\n",
       "      <th></th>\n",
       "      <th></th>\n",
       "      <th></th>\n",
       "      <th></th>\n",
       "    </tr>\n",
       "  </thead>\n",
       "  <tbody>\n",
       "    <tr>\n",
       "      <td>University of Cambridge</td>\n",
       "      <td>England</td>\n",
       "      <td>11383</td>\n",
       "      <td>0.5922</td>\n",
       "      <td>0.2600</td>\n",
       "      <td>0.0283</td>\n",
       "      <td>0.0518</td>\n",
       "      <td>0.0022</td>\n",
       "      <td>0.0007</td>\n",
       "      <td>0.0368</td>\n",
       "      <td>0.0179</td>\n",
       "      <td>0.0100</td>\n",
       "    </tr>\n",
       "    <tr>\n",
       "      <td>Stanford University</td>\n",
       "      <td>California</td>\n",
       "      <td>291</td>\n",
       "      <td>0.2990</td>\n",
       "      <td>0.4192</td>\n",
       "      <td>0.0069</td>\n",
       "      <td>0.0034</td>\n",
       "      <td>0.0000</td>\n",
       "      <td>0.0000</td>\n",
       "      <td>0.0000</td>\n",
       "      <td>0.0000</td>\n",
       "      <td>0.2715</td>\n",
       "    </tr>\n",
       "    <tr>\n",
       "      <td>Massachusetts Institute of Technology</td>\n",
       "      <td>United States</td>\n",
       "      <td>5451</td>\n",
       "      <td>0.6988</td>\n",
       "      <td>0.1255</td>\n",
       "      <td>0.0382</td>\n",
       "      <td>0.0376</td>\n",
       "      <td>0.0143</td>\n",
       "      <td>0.0002</td>\n",
       "      <td>0.0172</td>\n",
       "      <td>0.0332</td>\n",
       "      <td>0.0350</td>\n",
       "    </tr>\n",
       "    <tr>\n",
       "      <td>Harvard University</td>\n",
       "      <td>United States</td>\n",
       "      <td>4811</td>\n",
       "      <td>0.0158</td>\n",
       "      <td>0.9208</td>\n",
       "      <td>0.0121</td>\n",
       "      <td>0.0019</td>\n",
       "      <td>0.0010</td>\n",
       "      <td>0.0006</td>\n",
       "      <td>0.0098</td>\n",
       "      <td>0.0243</td>\n",
       "      <td>0.0137</td>\n",
       "    </tr>\n",
       "    <tr>\n",
       "      <td>Imperial College London</td>\n",
       "      <td>England</td>\n",
       "      <td>29851</td>\n",
       "      <td>0.7825</td>\n",
       "      <td>0.1119</td>\n",
       "      <td>0.0348</td>\n",
       "      <td>0.0106</td>\n",
       "      <td>0.0038</td>\n",
       "      <td>0.0009</td>\n",
       "      <td>0.0261</td>\n",
       "      <td>0.0268</td>\n",
       "      <td>0.0026</td>\n",
       "    </tr>\n",
       "    <tr>\n",
       "      <td>California Institute of Technology</td>\n",
       "      <td>California</td>\n",
       "      <td>1592</td>\n",
       "      <td>0.7255</td>\n",
       "      <td>0.2613</td>\n",
       "      <td>0.0044</td>\n",
       "      <td>0.0025</td>\n",
       "      <td>0.0044</td>\n",
       "      <td>0.0000</td>\n",
       "      <td>0.0000</td>\n",
       "      <td>0.0000</td>\n",
       "      <td>0.0019</td>\n",
       "    </tr>\n",
       "    <tr>\n",
       "      <td>University College London</td>\n",
       "      <td>United Kingdom</td>\n",
       "      <td>2991</td>\n",
       "      <td>0.7823</td>\n",
       "      <td>0.1200</td>\n",
       "      <td>0.0191</td>\n",
       "      <td>0.0053</td>\n",
       "      <td>0.0157</td>\n",
       "      <td>0.0010</td>\n",
       "      <td>0.0174</td>\n",
       "      <td>0.0057</td>\n",
       "      <td>0.0334</td>\n",
       "    </tr>\n",
       "    <tr>\n",
       "      <td>The University of Chicago</td>\n",
       "      <td>United States</td>\n",
       "      <td>4304</td>\n",
       "      <td>0.5328</td>\n",
       "      <td>0.3376</td>\n",
       "      <td>0.0074</td>\n",
       "      <td>0.0221</td>\n",
       "      <td>0.0044</td>\n",
       "      <td>0.0016</td>\n",
       "      <td>0.0297</td>\n",
       "      <td>0.0397</td>\n",
       "      <td>0.0246</td>\n",
       "    </tr>\n",
       "  </tbody>\n",
       "</table>\n",
       "</div>"
      ],
      "text/plain": [
       "                                              country   UGDS  UGDS_WHITE  \\\n",
       "INSTNM                                                                     \n",
       "University of Cambridge                       England  11383      0.5922   \n",
       "Stanford University                        California    291      0.2990   \n",
       "Massachusetts Institute of Technology   United States   5451      0.6988   \n",
       "Harvard University                      United States   4811      0.0158   \n",
       "Imperial College London                       England  29851      0.7825   \n",
       "California Institute of Technology         California   1592      0.7255   \n",
       "University College London              United Kingdom   2991      0.7823   \n",
       "The University of Chicago               United States   4304      0.5328   \n",
       "\n",
       "                                       UGDS_BLACK  UGDS_HISP  UGDS_ASIAN  \\\n",
       "INSTNM                                                                     \n",
       "University of Cambridge                    0.2600     0.0283      0.0518   \n",
       "Stanford University                        0.4192     0.0069      0.0034   \n",
       "Massachusetts Institute of Technology      0.1255     0.0382      0.0376   \n",
       "Harvard University                         0.9208     0.0121      0.0019   \n",
       "Imperial College London                    0.1119     0.0348      0.0106   \n",
       "California Institute of Technology         0.2613     0.0044      0.0025   \n",
       "University College London                  0.1200     0.0191      0.0053   \n",
       "The University of Chicago                  0.3376     0.0074      0.0221   \n",
       "\n",
       "                                       UGDS_AIAN  UGDS_NHPI  UGDS_2MOR  \\\n",
       "INSTNM                                                                   \n",
       "University of Cambridge                   0.0022     0.0007     0.0368   \n",
       "Stanford University                       0.0000     0.0000     0.0000   \n",
       "Massachusetts Institute of Technology     0.0143     0.0002     0.0172   \n",
       "Harvard University                        0.0010     0.0006     0.0098   \n",
       "Imperial College London                   0.0038     0.0009     0.0261   \n",
       "California Institute of Technology        0.0044     0.0000     0.0000   \n",
       "University College London                 0.0157     0.0010     0.0174   \n",
       "The University of Chicago                 0.0044     0.0016     0.0297   \n",
       "\n",
       "                                       UGDS_NRA  UGDS_UNKN  \n",
       "INSTNM                                                      \n",
       "University of Cambridge                  0.0179     0.0100  \n",
       "Stanford University                      0.0000     0.2715  \n",
       "Massachusetts Institute of Technology    0.0332     0.0350  \n",
       "Harvard University                       0.0243     0.0137  \n",
       "Imperial College London                  0.0268     0.0026  \n",
       "California Institute of Technology       0.0000     0.0019  \n",
       "University College London                0.0057     0.0334  \n",
       "The University of Chicago                0.0397     0.0246  "
      ]
     },
     "execution_count": 150,
     "metadata": {},
     "output_type": "execute_result"
    }
   ],
   "source": [
    "start = 'University of Cambridge'\n",
    "stop = 'The University of Chicago'\n",
    "University.loc[start:stop]"
   ]
  },
  {
   "cell_type": "markdown",
   "metadata": {},
   "source": [
    "# Selecting DataFrame rows and columns simultaneously"
   ]
  },
  {
   "cell_type": "code",
   "execution_count": 152,
   "metadata": {},
   "outputs": [
    {
     "data": {
      "text/html": [
       "<div>\n",
       "<style scoped>\n",
       "    .dataframe tbody tr th:only-of-type {\n",
       "        vertical-align: middle;\n",
       "    }\n",
       "\n",
       "    .dataframe tbody tr th {\n",
       "        vertical-align: top;\n",
       "    }\n",
       "\n",
       "    .dataframe thead th {\n",
       "        text-align: right;\n",
       "    }\n",
       "</style>\n",
       "<table border=\"1\" class=\"dataframe\">\n",
       "  <thead>\n",
       "    <tr style=\"text-align: right;\">\n",
       "      <th></th>\n",
       "      <th>country</th>\n",
       "      <th>UGDS</th>\n",
       "      <th>UGDS_WHITE</th>\n",
       "      <th>UGDS_BLACK</th>\n",
       "    </tr>\n",
       "    <tr>\n",
       "      <th>INSTNM</th>\n",
       "      <th></th>\n",
       "      <th></th>\n",
       "      <th></th>\n",
       "      <th></th>\n",
       "    </tr>\n",
       "  </thead>\n",
       "  <tbody>\n",
       "    <tr>\n",
       "      <td>University of Oxford</td>\n",
       "      <td>England</td>\n",
       "      <td>4206</td>\n",
       "      <td>0.0333</td>\n",
       "      <td>0.9353</td>\n",
       "    </tr>\n",
       "    <tr>\n",
       "      <td>University of Cambridge</td>\n",
       "      <td>England</td>\n",
       "      <td>11383</td>\n",
       "      <td>0.5922</td>\n",
       "      <td>0.2600</td>\n",
       "    </tr>\n",
       "    <tr>\n",
       "      <td>Stanford University</td>\n",
       "      <td>California</td>\n",
       "      <td>291</td>\n",
       "      <td>0.2990</td>\n",
       "      <td>0.4192</td>\n",
       "    </tr>\n",
       "  </tbody>\n",
       "</table>\n",
       "</div>"
      ],
      "text/plain": [
       "                            country   UGDS  UGDS_WHITE  UGDS_BLACK\n",
       "INSTNM                                                            \n",
       "University of Oxford        England   4206      0.0333      0.9353\n",
       "University of Cambridge     England  11383      0.5922      0.2600\n",
       "Stanford University      California    291      0.2990      0.4192"
      ]
     },
     "execution_count": 152,
     "metadata": {},
     "output_type": "execute_result"
    }
   ],
   "source": [
    "University.iloc[:3, :4]"
   ]
  },
  {
   "cell_type": "code",
   "execution_count": 154,
   "metadata": {},
   "outputs": [
    {
     "data": {
      "text/html": [
       "<div>\n",
       "<style scoped>\n",
       "    .dataframe tbody tr th:only-of-type {\n",
       "        vertical-align: middle;\n",
       "    }\n",
       "\n",
       "    .dataframe tbody tr th {\n",
       "        vertical-align: top;\n",
       "    }\n",
       "\n",
       "    .dataframe thead th {\n",
       "        text-align: right;\n",
       "    }\n",
       "</style>\n",
       "<table border=\"1\" class=\"dataframe\">\n",
       "  <thead>\n",
       "    <tr style=\"text-align: right;\">\n",
       "      <th></th>\n",
       "      <th>country</th>\n",
       "      <th>UGDS</th>\n",
       "      <th>UGDS_WHITE</th>\n",
       "      <th>UGDS_BLACK</th>\n",
       "    </tr>\n",
       "    <tr>\n",
       "      <th>INSTNM</th>\n",
       "      <th></th>\n",
       "      <th></th>\n",
       "      <th></th>\n",
       "      <th></th>\n",
       "    </tr>\n",
       "  </thead>\n",
       "  <tbody>\n",
       "    <tr>\n",
       "      <td>University of Oxford</td>\n",
       "      <td>England</td>\n",
       "      <td>4206</td>\n",
       "      <td>0.0333</td>\n",
       "      <td>0.9353</td>\n",
       "    </tr>\n",
       "    <tr>\n",
       "      <td>University of Cambridge</td>\n",
       "      <td>England</td>\n",
       "      <td>11383</td>\n",
       "      <td>0.5922</td>\n",
       "      <td>0.2600</td>\n",
       "    </tr>\n",
       "    <tr>\n",
       "      <td>Stanford University</td>\n",
       "      <td>California</td>\n",
       "      <td>291</td>\n",
       "      <td>0.2990</td>\n",
       "      <td>0.4192</td>\n",
       "    </tr>\n",
       "  </tbody>\n",
       "</table>\n",
       "</div>"
      ],
      "text/plain": [
       "                            country   UGDS  UGDS_WHITE  UGDS_BLACK\n",
       "INSTNM                                                            \n",
       "University of Oxford        England   4206      0.0333      0.9353\n",
       "University of Cambridge     England  11383      0.5922      0.2600\n",
       "Stanford University      California    291      0.2990      0.4192"
      ]
     },
     "execution_count": 154,
     "metadata": {},
     "output_type": "execute_result"
    }
   ],
   "source": [
    "University.loc[:'Stanford University', :'UGDS_BLACK']"
   ]
  },
  {
   "cell_type": "code",
   "execution_count": 222,
   "metadata": {},
   "outputs": [
    {
     "data": {
      "text/html": [
       "<div>\n",
       "<style scoped>\n",
       "    .dataframe tbody tr th:only-of-type {\n",
       "        vertical-align: middle;\n",
       "    }\n",
       "\n",
       "    .dataframe tbody tr th {\n",
       "        vertical-align: top;\n",
       "    }\n",
       "\n",
       "    .dataframe thead th {\n",
       "        text-align: right;\n",
       "    }\n",
       "</style>\n",
       "<table border=\"1\" class=\"dataframe\">\n",
       "  <thead>\n",
       "    <tr style=\"text-align: right;\">\n",
       "      <th></th>\n",
       "      <th>UGDS_HISP</th>\n",
       "      <th>UGDS_AIAN</th>\n",
       "    </tr>\n",
       "    <tr>\n",
       "      <th>INSTNM</th>\n",
       "      <th></th>\n",
       "      <th></th>\n",
       "    </tr>\n",
       "  </thead>\n",
       "  <tbody>\n",
       "    <tr>\n",
       "      <td>University of Oxford</td>\n",
       "      <td>0.0055</td>\n",
       "      <td>0.0024</td>\n",
       "    </tr>\n",
       "    <tr>\n",
       "      <td>University of Cambridge</td>\n",
       "      <td>0.0283</td>\n",
       "      <td>0.0022</td>\n",
       "    </tr>\n",
       "    <tr>\n",
       "      <td>Stanford University</td>\n",
       "      <td>0.0069</td>\n",
       "      <td>0.0000</td>\n",
       "    </tr>\n",
       "    <tr>\n",
       "      <td>...</td>\n",
       "      <td>...</td>\n",
       "      <td>...</td>\n",
       "    </tr>\n",
       "    <tr>\n",
       "      <td>University College London</td>\n",
       "      <td>0.0191</td>\n",
       "      <td>0.0157</td>\n",
       "    </tr>\n",
       "    <tr>\n",
       "      <td>The University of Chicago</td>\n",
       "      <td>0.0074</td>\n",
       "      <td>0.0044</td>\n",
       "    </tr>\n",
       "    <tr>\n",
       "      <td>Princeton University</td>\n",
       "      <td>0.0248</td>\n",
       "      <td>0.0074</td>\n",
       "    </tr>\n",
       "  </tbody>\n",
       "</table>\n",
       "<p>10 rows × 2 columns</p>\n",
       "</div>"
      ],
      "text/plain": [
       "                           UGDS_HISP  UGDS_AIAN\n",
       "INSTNM                                         \n",
       "University of Oxford          0.0055     0.0024\n",
       "University of Cambridge       0.0283     0.0022\n",
       "Stanford University           0.0069     0.0000\n",
       "...                              ...        ...\n",
       "University College London     0.0191     0.0157\n",
       "The University of Chicago     0.0074     0.0044\n",
       "Princeton University          0.0248     0.0074\n",
       "\n",
       "[10 rows x 2 columns]"
      ]
     },
     "execution_count": 222,
     "metadata": {},
     "output_type": "execute_result"
    }
   ],
   "source": [
    "University.iloc[:, [4,6]]"
   ]
  },
  {
   "cell_type": "code",
   "execution_count": 223,
   "metadata": {},
   "outputs": [
    {
     "data": {
      "text/html": [
       "<div>\n",
       "<style scoped>\n",
       "    .dataframe tbody tr th:only-of-type {\n",
       "        vertical-align: middle;\n",
       "    }\n",
       "\n",
       "    .dataframe tbody tr th {\n",
       "        vertical-align: top;\n",
       "    }\n",
       "\n",
       "    .dataframe thead th {\n",
       "        text-align: right;\n",
       "    }\n",
       "</style>\n",
       "<table border=\"1\" class=\"dataframe\">\n",
       "  <thead>\n",
       "    <tr style=\"text-align: right;\">\n",
       "      <th></th>\n",
       "      <th>UGDS_HISP</th>\n",
       "      <th>UGDS_BLACK</th>\n",
       "    </tr>\n",
       "    <tr>\n",
       "      <th>INSTNM</th>\n",
       "      <th></th>\n",
       "      <th></th>\n",
       "    </tr>\n",
       "  </thead>\n",
       "  <tbody>\n",
       "    <tr>\n",
       "      <td>University of Oxford</td>\n",
       "      <td>0.0055</td>\n",
       "      <td>0.9353</td>\n",
       "    </tr>\n",
       "    <tr>\n",
       "      <td>University of Cambridge</td>\n",
       "      <td>0.0283</td>\n",
       "      <td>0.2600</td>\n",
       "    </tr>\n",
       "    <tr>\n",
       "      <td>Stanford University</td>\n",
       "      <td>0.0069</td>\n",
       "      <td>0.4192</td>\n",
       "    </tr>\n",
       "    <tr>\n",
       "      <td>...</td>\n",
       "      <td>...</td>\n",
       "      <td>...</td>\n",
       "    </tr>\n",
       "    <tr>\n",
       "      <td>University College London</td>\n",
       "      <td>0.0191</td>\n",
       "      <td>0.1200</td>\n",
       "    </tr>\n",
       "    <tr>\n",
       "      <td>The University of Chicago</td>\n",
       "      <td>0.0074</td>\n",
       "      <td>0.3376</td>\n",
       "    </tr>\n",
       "    <tr>\n",
       "      <td>Princeton University</td>\n",
       "      <td>0.0248</td>\n",
       "      <td>0.0704</td>\n",
       "    </tr>\n",
       "  </tbody>\n",
       "</table>\n",
       "<p>10 rows × 2 columns</p>\n",
       "</div>"
      ],
      "text/plain": [
       "                           UGDS_HISP  UGDS_BLACK\n",
       "INSTNM                                          \n",
       "University of Oxford          0.0055      0.9353\n",
       "University of Cambridge       0.0283      0.2600\n",
       "Stanford University           0.0069      0.4192\n",
       "...                              ...         ...\n",
       "University College London     0.0191      0.1200\n",
       "The University of Chicago     0.0074      0.3376\n",
       "Princeton University          0.0248      0.0704\n",
       "\n",
       "[10 rows x 2 columns]"
      ]
     },
     "execution_count": 223,
     "metadata": {},
     "output_type": "execute_result"
    }
   ],
   "source": [
    "University.loc[: ,['UGDS_HISP','UGDS_BLACK']]"
   ]
  },
  {
   "cell_type": "code",
   "execution_count": 224,
   "metadata": {},
   "outputs": [
    {
     "data": {
      "text/html": [
       "<div>\n",
       "<style scoped>\n",
       "    .dataframe tbody tr th:only-of-type {\n",
       "        vertical-align: middle;\n",
       "    }\n",
       "\n",
       "    .dataframe tbody tr th {\n",
       "        vertical-align: top;\n",
       "    }\n",
       "\n",
       "    .dataframe thead th {\n",
       "        text-align: right;\n",
       "    }\n",
       "</style>\n",
       "<table border=\"1\" class=\"dataframe\">\n",
       "  <thead>\n",
       "    <tr style=\"text-align: right;\">\n",
       "      <th></th>\n",
       "      <th>UGDS_HISP</th>\n",
       "      <th>UGDS_NHPI</th>\n",
       "      <th>UGDS_NRA</th>\n",
       "    </tr>\n",
       "    <tr>\n",
       "      <th>INSTNM</th>\n",
       "      <th></th>\n",
       "      <th></th>\n",
       "      <th></th>\n",
       "    </tr>\n",
       "  </thead>\n",
       "  <tbody>\n",
       "    <tr>\n",
       "      <td>Stanford University</td>\n",
       "      <td>0.0069</td>\n",
       "      <td>0.0000</td>\n",
       "      <td>0.0000</td>\n",
       "    </tr>\n",
       "    <tr>\n",
       "      <td>Harvard University</td>\n",
       "      <td>0.0121</td>\n",
       "      <td>0.0006</td>\n",
       "      <td>0.0243</td>\n",
       "    </tr>\n",
       "    <tr>\n",
       "      <td>Imperial College London</td>\n",
       "      <td>0.0348</td>\n",
       "      <td>0.0009</td>\n",
       "      <td>0.0268</td>\n",
       "    </tr>\n",
       "  </tbody>\n",
       "</table>\n",
       "</div>"
      ],
      "text/plain": [
       "                         UGDS_HISP  UGDS_NHPI  UGDS_NRA\n",
       "INSTNM                                                 \n",
       "Stanford University         0.0069     0.0000    0.0000\n",
       "Harvard University          0.0121     0.0006    0.0243\n",
       "Imperial College London     0.0348     0.0009    0.0268"
      ]
     },
     "execution_count": 224,
     "metadata": {},
     "output_type": "execute_result"
    }
   ],
   "source": [
    "University.iloc[[2,4, 5], [4,7, 9]]"
   ]
  },
  {
   "cell_type": "code",
   "execution_count": 225,
   "metadata": {},
   "outputs": [
    {
     "data": {
      "text/html": [
       "<div>\n",
       "<style scoped>\n",
       "    .dataframe tbody tr th:only-of-type {\n",
       "        vertical-align: middle;\n",
       "    }\n",
       "\n",
       "    .dataframe tbody tr th {\n",
       "        vertical-align: top;\n",
       "    }\n",
       "\n",
       "    .dataframe thead th {\n",
       "        text-align: right;\n",
       "    }\n",
       "</style>\n",
       "<table border=\"1\" class=\"dataframe\">\n",
       "  <thead>\n",
       "    <tr style=\"text-align: right;\">\n",
       "      <th></th>\n",
       "      <th>UGDS_BLACK</th>\n",
       "      <th>UGDS_NHPI</th>\n",
       "    </tr>\n",
       "    <tr>\n",
       "      <th>INSTNM</th>\n",
       "      <th></th>\n",
       "      <th></th>\n",
       "    </tr>\n",
       "  </thead>\n",
       "  <tbody>\n",
       "    <tr>\n",
       "      <td>California Institute of Technology</td>\n",
       "      <td>0.2613</td>\n",
       "      <td>0.0000</td>\n",
       "    </tr>\n",
       "    <tr>\n",
       "      <td>Massachusetts Institute of Technology</td>\n",
       "      <td>0.1255</td>\n",
       "      <td>0.0002</td>\n",
       "    </tr>\n",
       "  </tbody>\n",
       "</table>\n",
       "</div>"
      ],
      "text/plain": [
       "                                       UGDS_BLACK  UGDS_NHPI\n",
       "INSTNM                                                      \n",
       "California Institute of Technology         0.2613     0.0000\n",
       "Massachusetts Institute of Technology      0.1255     0.0002"
      ]
     },
     "execution_count": 225,
     "metadata": {},
     "output_type": "execute_result"
    }
   ],
   "source": [
    "rows = ['California Institute of Technology', 'Massachusetts Institute of Technology']\n",
    "columns = ['UGDS_BLACK', 'UGDS_NHPI']\n",
    "University.loc[rows, columns]"
   ]
  },
  {
   "cell_type": "code",
   "execution_count": 226,
   "metadata": {},
   "outputs": [
    {
     "data": {
      "text/plain": [
       "0.0009"
      ]
     },
     "execution_count": 226,
     "metadata": {},
     "output_type": "execute_result"
    }
   ],
   "source": [
    "University.iloc[5, -4]"
   ]
  },
  {
   "cell_type": "code",
   "execution_count": 168,
   "metadata": {},
   "outputs": [
    {
     "data": {
      "text/plain": [
       "0.0"
      ]
     },
     "execution_count": 168,
     "metadata": {},
     "output_type": "execute_result"
    }
   ],
   "source": [
    "University.loc['California Institute of Technology', 'UGDS_NHPI']"
   ]
  },
  {
   "cell_type": "code",
   "execution_count": 170,
   "metadata": {},
   "outputs": [
    {
     "data": {
      "text/plain": [
       "INSTNM\n",
       "Princeton University                     0.0227\n",
       "University College London                0.0053\n",
       "Imperial College London                  0.0106\n",
       "Massachusetts Institute of Technology    0.0376\n",
       "Name: UGDS_ASIAN, dtype: float64"
      ]
     },
     "execution_count": 170,
     "metadata": {},
     "output_type": "execute_result"
    }
   ],
   "source": [
    "University.iloc[10:1:-2, 5]"
   ]
  },
  {
   "cell_type": "code",
   "execution_count": 176,
   "metadata": {},
   "outputs": [
    {
     "data": {
      "text/plain": [
       "INSTNM\n",
       "Princeton University                  0.0704\n",
       "The University of Chicago             0.3376\n",
       "University College London             0.1200\n",
       "California Institute of Technology    0.2613\n",
       "Imperial College London               0.1119\n",
       "Name: UGDS_BLACK, dtype: float64"
      ]
     },
     "execution_count": 176,
     "metadata": {},
     "output_type": "execute_result"
    }
   ],
   "source": [
    "start = 'Princeton University'\n",
    "stop = 'University of Oxford'\n",
    "University.loc[start:stop:-1, 'UGDS_BLACK'].head()"
   ]
  },
  {
   "cell_type": "markdown",
   "metadata": {},
   "source": [
    "# Slicing Lexicographically"
   ]
  },
  {
   "cell_type": "code",
   "execution_count": 230,
   "metadata": {},
   "outputs": [],
   "source": [
    "University= pd.read_csv('data1/University.csv', index_col='INSTNM')\n"
   ]
  },
  {
   "cell_type": "code",
   "execution_count": 231,
   "metadata": {},
   "outputs": [],
   "source": [
    "University=University.sort_index()"
   ]
  },
  {
   "cell_type": "code",
   "execution_count": 232,
   "metadata": {},
   "outputs": [
    {
     "data": {
      "text/html": [
       "<div>\n",
       "<style scoped>\n",
       "    .dataframe tbody tr th:only-of-type {\n",
       "        vertical-align: middle;\n",
       "    }\n",
       "\n",
       "    .dataframe tbody tr th {\n",
       "        vertical-align: top;\n",
       "    }\n",
       "\n",
       "    .dataframe thead th {\n",
       "        text-align: right;\n",
       "    }\n",
       "</style>\n",
       "<table border=\"1\" class=\"dataframe\">\n",
       "  <thead>\n",
       "    <tr style=\"text-align: right;\">\n",
       "      <th></th>\n",
       "      <th>country</th>\n",
       "      <th>UGDS</th>\n",
       "      <th>UGDS_WHITE</th>\n",
       "      <th>UGDS_BLACK</th>\n",
       "      <th>UGDS_HISP</th>\n",
       "      <th>UGDS_ASIAN</th>\n",
       "      <th>UGDS_AIAN</th>\n",
       "      <th>UGDS_NHPI</th>\n",
       "      <th>UGDS_2MOR</th>\n",
       "      <th>UGDS_NRA</th>\n",
       "      <th>UGDS_UNKN</th>\n",
       "    </tr>\n",
       "    <tr>\n",
       "      <th>INSTNM</th>\n",
       "      <th></th>\n",
       "      <th></th>\n",
       "      <th></th>\n",
       "      <th></th>\n",
       "      <th></th>\n",
       "      <th></th>\n",
       "      <th></th>\n",
       "      <th></th>\n",
       "      <th></th>\n",
       "      <th></th>\n",
       "      <th></th>\n",
       "    </tr>\n",
       "  </thead>\n",
       "  <tbody>\n",
       "    <tr>\n",
       "      <td>California Institute of Technology</td>\n",
       "      <td>California</td>\n",
       "      <td>1592</td>\n",
       "      <td>0.7255</td>\n",
       "      <td>0.2613</td>\n",
       "      <td>0.0044</td>\n",
       "      <td>0.0025</td>\n",
       "      <td>0.0044</td>\n",
       "      <td>0.0000</td>\n",
       "      <td>0.0000</td>\n",
       "      <td>0.0000</td>\n",
       "      <td>0.0019</td>\n",
       "    </tr>\n",
       "    <tr>\n",
       "      <td>Harvard University</td>\n",
       "      <td>United States</td>\n",
       "      <td>4811</td>\n",
       "      <td>0.0158</td>\n",
       "      <td>0.9208</td>\n",
       "      <td>0.0121</td>\n",
       "      <td>0.0019</td>\n",
       "      <td>0.0010</td>\n",
       "      <td>0.0006</td>\n",
       "      <td>0.0098</td>\n",
       "      <td>0.0243</td>\n",
       "      <td>0.0137</td>\n",
       "    </tr>\n",
       "    <tr>\n",
       "      <td>Imperial College London</td>\n",
       "      <td>England</td>\n",
       "      <td>29851</td>\n",
       "      <td>0.7825</td>\n",
       "      <td>0.1119</td>\n",
       "      <td>0.0348</td>\n",
       "      <td>0.0106</td>\n",
       "      <td>0.0038</td>\n",
       "      <td>0.0009</td>\n",
       "      <td>0.0261</td>\n",
       "      <td>0.0268</td>\n",
       "      <td>0.0026</td>\n",
       "    </tr>\n",
       "    <tr>\n",
       "      <td>Massachusetts Institute of Technology</td>\n",
       "      <td>United States</td>\n",
       "      <td>5451</td>\n",
       "      <td>0.6988</td>\n",
       "      <td>0.1255</td>\n",
       "      <td>0.0382</td>\n",
       "      <td>0.0376</td>\n",
       "      <td>0.0143</td>\n",
       "      <td>0.0002</td>\n",
       "      <td>0.0172</td>\n",
       "      <td>0.0332</td>\n",
       "      <td>0.0350</td>\n",
       "    </tr>\n",
       "    <tr>\n",
       "      <td>Princeton University</td>\n",
       "      <td>United States</td>\n",
       "      <td>20514</td>\n",
       "      <td>0.8507</td>\n",
       "      <td>0.0704</td>\n",
       "      <td>0.0248</td>\n",
       "      <td>0.0227</td>\n",
       "      <td>0.0074</td>\n",
       "      <td>0.0000</td>\n",
       "      <td>0.0000</td>\n",
       "      <td>0.0100</td>\n",
       "      <td>0.0140</td>\n",
       "    </tr>\n",
       "  </tbody>\n",
       "</table>\n",
       "</div>"
      ],
      "text/plain": [
       "                                             country   UGDS  UGDS_WHITE  \\\n",
       "INSTNM                                                                    \n",
       "California Institute of Technology        California   1592      0.7255   \n",
       "Harvard University                     United States   4811      0.0158   \n",
       "Imperial College London                      England  29851      0.7825   \n",
       "Massachusetts Institute of Technology  United States   5451      0.6988   \n",
       "Princeton University                   United States  20514      0.8507   \n",
       "\n",
       "                                       UGDS_BLACK  UGDS_HISP  UGDS_ASIAN  \\\n",
       "INSTNM                                                                     \n",
       "California Institute of Technology         0.2613     0.0044      0.0025   \n",
       "Harvard University                         0.9208     0.0121      0.0019   \n",
       "Imperial College London                    0.1119     0.0348      0.0106   \n",
       "Massachusetts Institute of Technology      0.1255     0.0382      0.0376   \n",
       "Princeton University                       0.0704     0.0248      0.0227   \n",
       "\n",
       "                                       UGDS_AIAN  UGDS_NHPI  UGDS_2MOR  \\\n",
       "INSTNM                                                                   \n",
       "California Institute of Technology        0.0044     0.0000     0.0000   \n",
       "Harvard University                        0.0010     0.0006     0.0098   \n",
       "Imperial College London                   0.0038     0.0009     0.0261   \n",
       "Massachusetts Institute of Technology     0.0143     0.0002     0.0172   \n",
       "Princeton University                      0.0074     0.0000     0.0000   \n",
       "\n",
       "                                       UGDS_NRA  UGDS_UNKN  \n",
       "INSTNM                                                      \n",
       "California Institute of Technology       0.0000     0.0019  \n",
       "Harvard University                       0.0243     0.0137  \n",
       "Imperial College London                  0.0268     0.0026  \n",
       "Massachusetts Institute of Technology    0.0332     0.0350  \n",
       "Princeton University                     0.0100     0.0140  "
      ]
     },
     "execution_count": 232,
     "metadata": {},
     "output_type": "execute_result"
    }
   ],
   "source": [
    "University.head()"
   ]
  },
  {
   "cell_type": "code",
   "execution_count": 233,
   "metadata": {},
   "outputs": [],
   "source": [
    "pd.options.display.max_rows = 6"
   ]
  },
  {
   "cell_type": "code",
   "execution_count": 238,
   "metadata": {},
   "outputs": [
    {
     "data": {
      "text/html": [
       "<div>\n",
       "<style scoped>\n",
       "    .dataframe tbody tr th:only-of-type {\n",
       "        vertical-align: middle;\n",
       "    }\n",
       "\n",
       "    .dataframe tbody tr th {\n",
       "        vertical-align: top;\n",
       "    }\n",
       "\n",
       "    .dataframe thead th {\n",
       "        text-align: right;\n",
       "    }\n",
       "</style>\n",
       "<table border=\"1\" class=\"dataframe\">\n",
       "  <thead>\n",
       "    <tr style=\"text-align: right;\">\n",
       "      <th></th>\n",
       "      <th>country</th>\n",
       "      <th>UGDS</th>\n",
       "      <th>UGDS_WHITE</th>\n",
       "      <th>UGDS_BLACK</th>\n",
       "      <th>UGDS_HISP</th>\n",
       "      <th>UGDS_ASIAN</th>\n",
       "      <th>UGDS_AIAN</th>\n",
       "      <th>UGDS_NHPI</th>\n",
       "      <th>UGDS_2MOR</th>\n",
       "      <th>UGDS_NRA</th>\n",
       "      <th>UGDS_UNKN</th>\n",
       "    </tr>\n",
       "    <tr>\n",
       "      <th>INSTNM</th>\n",
       "      <th></th>\n",
       "      <th></th>\n",
       "      <th></th>\n",
       "      <th></th>\n",
       "      <th></th>\n",
       "      <th></th>\n",
       "      <th></th>\n",
       "      <th></th>\n",
       "      <th></th>\n",
       "      <th></th>\n",
       "      <th></th>\n",
       "    </tr>\n",
       "  </thead>\n",
       "  <tbody>\n",
       "    <tr>\n",
       "      <td>University College London</td>\n",
       "      <td>United Kingdom</td>\n",
       "      <td>2991</td>\n",
       "      <td>0.7823</td>\n",
       "      <td>0.1200</td>\n",
       "      <td>0.0191</td>\n",
       "      <td>0.0053</td>\n",
       "      <td>0.0157</td>\n",
       "      <td>0.0010</td>\n",
       "      <td>0.0174</td>\n",
       "      <td>0.0057</td>\n",
       "      <td>0.0334</td>\n",
       "    </tr>\n",
       "    <tr>\n",
       "      <td>University of Cambridge</td>\n",
       "      <td>England</td>\n",
       "      <td>11383</td>\n",
       "      <td>0.5922</td>\n",
       "      <td>0.2600</td>\n",
       "      <td>0.0283</td>\n",
       "      <td>0.0518</td>\n",
       "      <td>0.0022</td>\n",
       "      <td>0.0007</td>\n",
       "      <td>0.0368</td>\n",
       "      <td>0.0179</td>\n",
       "      <td>0.0100</td>\n",
       "    </tr>\n",
       "    <tr>\n",
       "      <td>University of Oxford</td>\n",
       "      <td>England</td>\n",
       "      <td>4206</td>\n",
       "      <td>0.0333</td>\n",
       "      <td>0.9353</td>\n",
       "      <td>0.0055</td>\n",
       "      <td>0.0019</td>\n",
       "      <td>0.0024</td>\n",
       "      <td>0.0019</td>\n",
       "      <td>0.0000</td>\n",
       "      <td>0.0059</td>\n",
       "      <td>0.0138</td>\n",
       "    </tr>\n",
       "  </tbody>\n",
       "</table>\n",
       "</div>"
      ],
      "text/plain": [
       "                                  country   UGDS  UGDS_WHITE  UGDS_BLACK  \\\n",
       "INSTNM                                                                     \n",
       "University College London  United Kingdom   2991      0.7823      0.1200   \n",
       "University of Cambridge           England  11383      0.5922      0.2600   \n",
       "University of Oxford              England   4206      0.0333      0.9353   \n",
       "\n",
       "                           UGDS_HISP  UGDS_ASIAN  UGDS_AIAN  UGDS_NHPI  \\\n",
       "INSTNM                                                                   \n",
       "University College London     0.0191      0.0053     0.0157     0.0010   \n",
       "University of Cambridge       0.0283      0.0518     0.0022     0.0007   \n",
       "University of Oxford          0.0055      0.0019     0.0024     0.0019   \n",
       "\n",
       "                           UGDS_2MOR  UGDS_NRA  UGDS_UNKN  \n",
       "INSTNM                                                     \n",
       "University College London     0.0174    0.0057     0.0334  \n",
       "University of Cambridge       0.0368    0.0179     0.0100  \n",
       "University of Oxford          0.0000    0.0059     0.0138  "
      ]
     },
     "execution_count": 238,
     "metadata": {},
     "output_type": "execute_result"
    }
   ],
   "source": [
    "University.loc['Un':'uk']"
   ]
  },
  {
   "cell_type": "code",
   "execution_count": 239,
   "metadata": {},
   "outputs": [
    {
     "data": {
      "text/plain": [
       "True"
      ]
     },
     "execution_count": 239,
     "metadata": {},
     "output_type": "execute_result"
    }
   ],
   "source": [
    "University = University.sort_index(ascending=False)\n",
    "University.index.is_monotonic_decreasing"
   ]
  },
  {
   "cell_type": "code",
   "execution_count": 240,
   "metadata": {},
   "outputs": [
    {
     "data": {
      "text/html": [
       "<div>\n",
       "<style scoped>\n",
       "    .dataframe tbody tr th:only-of-type {\n",
       "        vertical-align: middle;\n",
       "    }\n",
       "\n",
       "    .dataframe tbody tr th {\n",
       "        vertical-align: top;\n",
       "    }\n",
       "\n",
       "    .dataframe thead th {\n",
       "        text-align: right;\n",
       "    }\n",
       "</style>\n",
       "<table border=\"1\" class=\"dataframe\">\n",
       "  <thead>\n",
       "    <tr style=\"text-align: right;\">\n",
       "      <th></th>\n",
       "      <th>country</th>\n",
       "      <th>UGDS</th>\n",
       "      <th>UGDS_WHITE</th>\n",
       "      <th>UGDS_BLACK</th>\n",
       "      <th>UGDS_HISP</th>\n",
       "      <th>UGDS_ASIAN</th>\n",
       "      <th>UGDS_AIAN</th>\n",
       "      <th>UGDS_NHPI</th>\n",
       "      <th>UGDS_2MOR</th>\n",
       "      <th>UGDS_NRA</th>\n",
       "      <th>UGDS_UNKN</th>\n",
       "    </tr>\n",
       "    <tr>\n",
       "      <th>INSTNM</th>\n",
       "      <th></th>\n",
       "      <th></th>\n",
       "      <th></th>\n",
       "      <th></th>\n",
       "      <th></th>\n",
       "      <th></th>\n",
       "      <th></th>\n",
       "      <th></th>\n",
       "      <th></th>\n",
       "      <th></th>\n",
       "      <th></th>\n",
       "    </tr>\n",
       "  </thead>\n",
       "  <tbody>\n",
       "    <tr>\n",
       "      <td>The University of Chicago</td>\n",
       "      <td>United States</td>\n",
       "      <td>4304</td>\n",
       "      <td>0.5328</td>\n",
       "      <td>0.3376</td>\n",
       "      <td>0.0074</td>\n",
       "      <td>0.0221</td>\n",
       "      <td>0.0044</td>\n",
       "      <td>0.0016</td>\n",
       "      <td>0.0297</td>\n",
       "      <td>0.0397</td>\n",
       "      <td>0.0246</td>\n",
       "    </tr>\n",
       "    <tr>\n",
       "      <td>Stanford University</td>\n",
       "      <td>California</td>\n",
       "      <td>291</td>\n",
       "      <td>0.2990</td>\n",
       "      <td>0.4192</td>\n",
       "      <td>0.0069</td>\n",
       "      <td>0.0034</td>\n",
       "      <td>0.0000</td>\n",
       "      <td>0.0000</td>\n",
       "      <td>0.0000</td>\n",
       "      <td>0.0000</td>\n",
       "      <td>0.2715</td>\n",
       "    </tr>\n",
       "    <tr>\n",
       "      <td>Princeton University</td>\n",
       "      <td>United States</td>\n",
       "      <td>20514</td>\n",
       "      <td>0.8507</td>\n",
       "      <td>0.0704</td>\n",
       "      <td>0.0248</td>\n",
       "      <td>0.0227</td>\n",
       "      <td>0.0074</td>\n",
       "      <td>0.0000</td>\n",
       "      <td>0.0000</td>\n",
       "      <td>0.0100</td>\n",
       "      <td>0.0140</td>\n",
       "    </tr>\n",
       "    <tr>\n",
       "      <td>...</td>\n",
       "      <td>...</td>\n",
       "      <td>...</td>\n",
       "      <td>...</td>\n",
       "      <td>...</td>\n",
       "      <td>...</td>\n",
       "      <td>...</td>\n",
       "      <td>...</td>\n",
       "      <td>...</td>\n",
       "      <td>...</td>\n",
       "      <td>...</td>\n",
       "      <td>...</td>\n",
       "    </tr>\n",
       "    <tr>\n",
       "      <td>Imperial College London</td>\n",
       "      <td>England</td>\n",
       "      <td>29851</td>\n",
       "      <td>0.7825</td>\n",
       "      <td>0.1119</td>\n",
       "      <td>0.0348</td>\n",
       "      <td>0.0106</td>\n",
       "      <td>0.0038</td>\n",
       "      <td>0.0009</td>\n",
       "      <td>0.0261</td>\n",
       "      <td>0.0268</td>\n",
       "      <td>0.0026</td>\n",
       "    </tr>\n",
       "    <tr>\n",
       "      <td>Harvard University</td>\n",
       "      <td>United States</td>\n",
       "      <td>4811</td>\n",
       "      <td>0.0158</td>\n",
       "      <td>0.9208</td>\n",
       "      <td>0.0121</td>\n",
       "      <td>0.0019</td>\n",
       "      <td>0.0010</td>\n",
       "      <td>0.0006</td>\n",
       "      <td>0.0098</td>\n",
       "      <td>0.0243</td>\n",
       "      <td>0.0137</td>\n",
       "    </tr>\n",
       "    <tr>\n",
       "      <td>California Institute of Technology</td>\n",
       "      <td>California</td>\n",
       "      <td>1592</td>\n",
       "      <td>0.7255</td>\n",
       "      <td>0.2613</td>\n",
       "      <td>0.0044</td>\n",
       "      <td>0.0025</td>\n",
       "      <td>0.0044</td>\n",
       "      <td>0.0000</td>\n",
       "      <td>0.0000</td>\n",
       "      <td>0.0000</td>\n",
       "      <td>0.0019</td>\n",
       "    </tr>\n",
       "  </tbody>\n",
       "</table>\n",
       "<p>7 rows × 11 columns</p>\n",
       "</div>"
      ],
      "text/plain": [
       "                                          country   UGDS  UGDS_WHITE  \\\n",
       "INSTNM                                                                 \n",
       "The University of Chicago           United States   4304      0.5328   \n",
       "Stanford University                    California    291      0.2990   \n",
       "Princeton University                United States  20514      0.8507   \n",
       "...                                           ...    ...         ...   \n",
       "Imperial College London                   England  29851      0.7825   \n",
       "Harvard University                  United States   4811      0.0158   \n",
       "California Institute of Technology     California   1592      0.7255   \n",
       "\n",
       "                                    UGDS_BLACK  UGDS_HISP  UGDS_ASIAN  \\\n",
       "INSTNM                                                                  \n",
       "The University of Chicago               0.3376     0.0074      0.0221   \n",
       "Stanford University                     0.4192     0.0069      0.0034   \n",
       "Princeton University                    0.0704     0.0248      0.0227   \n",
       "...                                        ...        ...         ...   \n",
       "Imperial College London                 0.1119     0.0348      0.0106   \n",
       "Harvard University                      0.9208     0.0121      0.0019   \n",
       "California Institute of Technology      0.2613     0.0044      0.0025   \n",
       "\n",
       "                                    UGDS_AIAN  UGDS_NHPI  UGDS_2MOR  UGDS_NRA  \\\n",
       "INSTNM                                                                          \n",
       "The University of Chicago              0.0044     0.0016     0.0297    0.0397   \n",
       "Stanford University                    0.0000     0.0000     0.0000    0.0000   \n",
       "Princeton University                   0.0074     0.0000     0.0000    0.0100   \n",
       "...                                       ...        ...        ...       ...   \n",
       "Imperial College London                0.0038     0.0009     0.0261    0.0268   \n",
       "Harvard University                     0.0010     0.0006     0.0098    0.0243   \n",
       "California Institute of Technology     0.0044     0.0000     0.0000    0.0000   \n",
       "\n",
       "                                    UGDS_UNKN  \n",
       "INSTNM                                         \n",
       "The University of Chicago              0.0246  \n",
       "Stanford University                    0.2715  \n",
       "Princeton University                   0.0140  \n",
       "...                                       ...  \n",
       "Imperial College London                0.0026  \n",
       "Harvard University                     0.0137  \n",
       "California Institute of Technology     0.0019  \n",
       "\n",
       "[7 rows x 11 columns]"
      ]
     },
     "execution_count": 240,
     "metadata": {},
     "output_type": "execute_result"
    }
   ],
   "source": [
    "University.loc['U':'B']"
   ]
  },
  {
   "cell_type": "code",
   "execution_count": null,
   "metadata": {},
   "outputs": [],
   "source": []
  }
 ],
 "metadata": {
  "kernelspec": {
   "display_name": "Python 3",
   "language": "python",
   "name": "python3"
  },
  "language_info": {
   "codemirror_mode": {
    "name": "ipython",
    "version": 3
   },
   "file_extension": ".py",
   "mimetype": "text/x-python",
   "name": "python",
   "nbconvert_exporter": "python",
   "pygments_lexer": "ipython3",
   "version": "3.7.4"
  }
 },
 "nbformat": 4,
 "nbformat_minor": 4
}
